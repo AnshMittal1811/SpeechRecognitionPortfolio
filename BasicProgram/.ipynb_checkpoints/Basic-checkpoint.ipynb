{
 "cells": [
  {
   "cell_type": "code",
   "execution_count": 22,
   "metadata": {},
   "outputs": [],
   "source": [
    "import speech_recognition as sr\n",
    "import webbrowser as wb"
   ]
  },
  {
   "cell_type": "code",
   "execution_count": 23,
   "metadata": {},
   "outputs": [],
   "source": [
    "input1 = sr.Recognizer()\n",
    "input2 = sr.Recognizer()\n",
    "input3 = sr.Recognizer()"
   ]
  },
  {
   "cell_type": "code",
   "execution_count": 25,
   "metadata": {},
   "outputs": [
    {
     "name": "stdout",
     "output_type": "stream",
     "text": [
      "[search edureka courses]\n",
      "speak now\n",
      "Search your query\n",
      "python\n"
     ]
    }
   ],
   "source": [
    "with sr.Microphone() as source:\n",
    "    print('[search edureka courses]')\n",
    "    print('speak now')\n",
    "    audiosource = input3.listen(source)\n",
    "    \n",
    "s = False\n",
    "while s == False:\n",
    "    if 'courses' in input2.recognize_google(audiosource):\n",
    "        input2 = sr.Recognizer()\n",
    "        url = 'https://www.edureka.co/'\n",
    "\n",
    "        with sr.Microphone() as source:\n",
    "            print('Search your query')\n",
    "            audiosource = input2.listen(source)\n",
    "\n",
    "            try:\n",
    "                get = input2.recognize_google(audiosource)\n",
    "                print(get)\n",
    "                wb.get().open_new(url+get)\n",
    "                s = True\n",
    "\n",
    "            except sr.UnknownValueError:\n",
    "                print('error')\n",
    "\n",
    "            except sr.RequestError as e:\n",
    "                print('failed'.format(e))\n",
    "\n",
    "    else:\n",
    "        print('Try again')"
   ]
  },
  {
   "cell_type": "markdown",
   "metadata": {},
   "source": [
    "![course](./Image/Image01.png \"python course\")"
   ]
  },
  {
   "cell_type": "code",
   "execution_count": 10,
   "metadata": {},
   "outputs": [
    {
     "name": "stdout",
     "output_type": "stream",
     "text": [
      "[search repositories | search youtube]\n",
      "speak now\n",
      "Search for a repository\n",
      "pytorch\n"
     ]
    }
   ],
   "source": [
    "with sr.Microphone() as source:\n",
    "    print('[search repositories | search youtube]')\n",
    "    print('speak now')\n",
    "    audiosource = input3.listen(source)\n",
    "            \n",
    "if 'courses' in input2.recognize_google(audiosource):\n",
    "    input2 = sr.Recognizer()\n",
    "    url = 'https://www.github.com/AnshMittal1811/'\n",
    "    \n",
    "    with sr.Microphone() as source:\n",
    "        print('Search for a repository')\n",
    "        audiosource = input2.listen(source)\n",
    "        \n",
    "        try:\n",
    "            get = input2.recognize_google(audiosource)\n",
    "            print(get)\n",
    "            wb.get().open_new(url+get)\n",
    "            \n",
    "        except sr.UnknownValueError:\n",
    "            print('error')\n",
    "            \n",
    "        except sr.RequestError as e:\n",
    "            print('failed'.format(e))\n",
    "            \n",
    "elif 'video' in input1.recognize_google(audiosource):\n",
    "    input1 = sr.Recognizer()\n",
    "    url = 'https://www.youtube.com/results?search_query='\n",
    "    \n",
    "    with sr.Microphone() as source:\n",
    "        print('Search for a video')\n",
    "        audiosource = input2.listen(source)\n",
    "        \n",
    "        try:\n",
    "            get = input1.recognize_google(audiosource)\n",
    "            print(get)\n",
    "            wb.get().open_new(url+get)\n",
    "            \n",
    "        except sr.UnknownValueError:\n",
    "            print('error')\n",
    "            \n",
    "        except sr.RequestError as e:\n",
    "            print('failed'.format(e))"
   ]
  }
 ],
 "metadata": {
  "kernelspec": {
   "display_name": "Python 3",
   "language": "python",
   "name": "python3"
  },
  "language_info": {
   "codemirror_mode": {
    "name": "ipython",
    "version": 3
   },
   "file_extension": ".py",
   "mimetype": "text/x-python",
   "name": "python",
   "nbconvert_exporter": "python",
   "pygments_lexer": "ipython3",
   "version": "3.6.6"
  }
 },
 "nbformat": 4,
 "nbformat_minor": 2
}
